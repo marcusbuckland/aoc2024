{
 "cells": [
  {
   "cell_type": "markdown",
   "metadata": {},
   "source": [
    "## Advent of Code 2024 - Day 01 ##\n",
    "____"
   ]
  },
  {
   "cell_type": "code",
   "execution_count": 1,
   "metadata": {},
   "outputs": [
    {
     "name": "stdout",
     "output_type": "stream",
     "text": [
      "Part 1: 2176849\n"
     ]
    }
   ],
   "source": [
    "# Part 1\n",
    "with open(\"in.txt\", \"r\") as f:\n",
    "    data = f.read().splitlines()\n",
    "\n",
    "left, right = [], []\n",
    "\n",
    "for line in data:\n",
    "    l, r = line.split()\n",
    "    left.append(int(l))\n",
    "    right.append(int(r))\n",
    "\n",
    "left.sort()\n",
    "right.sort()\n",
    "\n",
    "dist = 0\n",
    "for l, r in zip(left, right):\n",
    "    dist += abs(l-r)\n",
    "\n",
    "print(f\"Part 1: {dist}\") # 2176849"
   ]
  },
  {
   "cell_type": "code",
   "execution_count": 2,
   "metadata": {},
   "outputs": [
    {
     "name": "stdout",
     "output_type": "stream",
     "text": [
      "Part 2: 23384288\n"
     ]
    }
   ],
   "source": [
    "# Part 2\n",
    "from collections import Counter\n",
    "c = Counter(right)\n",
    "\n",
    "similarity = 0\n",
    "for l in left:\n",
    "    if l in c:\n",
    "        similarity += (l * c[l])\n",
    "\n",
    "\n",
    "print(f\"Part 2: {similarity}\") # 23384288"
   ]
  }
 ],
 "metadata": {
  "kernelspec": {
   "display_name": "marcus",
   "language": "python",
   "name": "python3"
  },
  "language_info": {
   "codemirror_mode": {
    "name": "ipython",
    "version": 3
   },
   "file_extension": ".py",
   "mimetype": "text/x-python",
   "name": "python",
   "nbconvert_exporter": "python",
   "pygments_lexer": "ipython3",
   "version": "3.11.5"
  }
 },
 "nbformat": 4,
 "nbformat_minor": 2
}
