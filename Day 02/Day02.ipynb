{
 "cells": [
  {
   "cell_type": "markdown",
   "metadata": {},
   "source": [
    "## Advent of Code 2024 - Day 02 ##\n",
    "____"
   ]
  },
  {
   "cell_type": "code",
   "execution_count": 1,
   "metadata": {},
   "outputs": [],
   "source": [
    "# Part 1\n",
    "with open(\"in.txt\", \"r\") as f:\n",
    "    levels = f.read().splitlines()"
   ]
  },
  {
   "cell_type": "code",
   "execution_count": 2,
   "metadata": {},
   "outputs": [
    {
     "name": "stdout",
     "output_type": "stream",
     "text": [
      "Part one: 218\n"
     ]
    }
   ],
   "source": [
    "def is_safe(level):\n",
    "    level = [int(n) for n in level.split()]\n",
    "    first, second = level[:2]\n",
    "    \n",
    "    if first == second : return False\n",
    "    if abs(first-second) > 3 : return False\n",
    "\n",
    "    \n",
    "    if first < second: # increasing\n",
    "        for n in level[2:]:\n",
    "            first, second = second, n\n",
    "            if first >= second or abs(first-second) > 3 : return False\n",
    "\n",
    "    else: # decreasing\n",
    "        for n in level[2:]:\n",
    "            first, second = second, n\n",
    "            if first <= second or abs(first-second) > 3: return False\n",
    "\n",
    "    # level is safe\n",
    "    return True\n",
    "\n",
    "n_safe = 0\n",
    "for level in levels:\n",
    "    n_safe += is_safe(level)\n",
    "\n",
    "print(f\"Part one: {n_safe}\") # 218"
   ]
  },
  {
   "cell_type": "code",
   "execution_count": null,
   "metadata": {},
   "outputs": [],
   "source": []
  },
  {
   "cell_type": "code",
   "execution_count": null,
   "metadata": {},
   "outputs": [],
   "source": []
  },
  {
   "cell_type": "code",
   "execution_count": null,
   "metadata": {},
   "outputs": [],
   "source": []
  }
 ],
 "metadata": {
  "kernelspec": {
   "display_name": "marcus",
   "language": "python",
   "name": "python3"
  },
  "language_info": {
   "codemirror_mode": {
    "name": "ipython",
    "version": 3
   },
   "file_extension": ".py",
   "mimetype": "text/x-python",
   "name": "python",
   "nbconvert_exporter": "python",
   "pygments_lexer": "ipython3",
   "version": "3.11.5"
  }
 },
 "nbformat": 4,
 "nbformat_minor": 2
}
